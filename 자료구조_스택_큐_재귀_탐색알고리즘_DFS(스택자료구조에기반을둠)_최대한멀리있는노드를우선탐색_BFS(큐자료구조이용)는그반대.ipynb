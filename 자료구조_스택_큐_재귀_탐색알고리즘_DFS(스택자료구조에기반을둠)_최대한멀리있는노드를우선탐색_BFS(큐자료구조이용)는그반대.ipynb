{
  "nbformat": 4,
  "nbformat_minor": 0,
  "metadata": {
    "colab": {
      "provenance": [],
      "authorship_tag": "ABX9TyNUG7mNytX6o/d3k9+8b3Ul",
      "include_colab_link": true
    },
    "kernelspec": {
      "name": "python3",
      "display_name": "Python 3"
    },
    "language_info": {
      "name": "python"
    }
  },
  "cells": [
    {
      "cell_type": "markdown",
      "metadata": {
        "id": "view-in-github",
        "colab_type": "text"
      },
      "source": [
        "<a href=\"https://colab.research.google.com/github/hayaboy/Alg/blob/master/%EC%9E%90%EB%A3%8C%EA%B5%AC%EC%A1%B0_%EC%8A%A4%ED%83%9D_%ED%81%90_%EC%9E%AC%EA%B7%80_%ED%83%90%EC%83%89%EC%95%8C%EA%B3%A0%EB%A6%AC%EC%A6%98_DFS(%EC%8A%A4%ED%83%9D%EC%9E%90%EB%A3%8C%EA%B5%AC%EC%A1%B0%EC%97%90%EA%B8%B0%EB%B0%98%EC%9D%84%EB%91%A0)_%EC%B5%9C%EB%8C%80%ED%95%9C%EB%A9%80%EB%A6%AC%EC%9E%88%EB%8A%94%EB%85%B8%EB%93%9C%EB%A5%BC%EC%9A%B0%EC%84%A0%ED%83%90%EC%83%89_BFS(%ED%81%90%EC%9E%90%EB%A3%8C%EA%B5%AC%EC%A1%B0%EC%9D%B4%EC%9A%A9)%EB%8A%94%EA%B7%B8%EB%B0%98%EB%8C%80.ipynb\" target=\"_parent\"><img src=\"https://colab.research.google.com/assets/colab-badge.svg\" alt=\"Open In Colab\"/></a>"
      ]
    },
    {
      "cell_type": "markdown",
      "source": [
        "스택"
      ],
      "metadata": {
        "id": "eH6sifPuXhDX"
      }
    },
    {
      "cell_type": "code",
      "execution_count": 1,
      "metadata": {
        "id": "LVjP4Vp2WKZt"
      },
      "outputs": [],
      "source": [
        "stack=[]"
      ]
    },
    {
      "cell_type": "code",
      "source": [
        "stack.append(5)\n",
        "stack.append(2)\n",
        "stack.append(3)\n",
        "stack.append(7)"
      ],
      "metadata": {
        "id": "dsvIfL_oWkmO"
      },
      "execution_count": 2,
      "outputs": []
    },
    {
      "cell_type": "code",
      "source": [
        "stack.pop()"
      ],
      "metadata": {
        "colab": {
          "base_uri": "https://localhost:8080/"
        },
        "id": "RpOThFKkWrb6",
        "outputId": "a8400e76-fcb1-4b6b-e55a-25b1fd5fc1e0"
      },
      "execution_count": 3,
      "outputs": [
        {
          "output_type": "execute_result",
          "data": {
            "text/plain": [
              "7"
            ]
          },
          "metadata": {},
          "execution_count": 3
        }
      ]
    },
    {
      "cell_type": "code",
      "source": [
        "stack"
      ],
      "metadata": {
        "colab": {
          "base_uri": "https://localhost:8080/"
        },
        "id": "1xjTtF7TWte0",
        "outputId": "3338abe0-1cc2-48a6-fc8e-58d4eb6063d2"
      },
      "execution_count": 4,
      "outputs": [
        {
          "output_type": "execute_result",
          "data": {
            "text/plain": [
              "[5, 2, 3]"
            ]
          },
          "metadata": {},
          "execution_count": 4
        }
      ]
    },
    {
      "cell_type": "code",
      "source": [
        "stack.append(1)\n",
        "stack.append(4)\n",
        "stack.pop()"
      ],
      "metadata": {
        "colab": {
          "base_uri": "https://localhost:8080/"
        },
        "id": "OxfazweoWv0h",
        "outputId": "7266df51-3cc2-49fa-c60a-607b96b8f362"
      },
      "execution_count": 5,
      "outputs": [
        {
          "output_type": "execute_result",
          "data": {
            "text/plain": [
              "4"
            ]
          },
          "metadata": {},
          "execution_count": 5
        }
      ]
    },
    {
      "cell_type": "code",
      "source": [
        "stack"
      ],
      "metadata": {
        "colab": {
          "base_uri": "https://localhost:8080/"
        },
        "id": "zUCnq99LW5xs",
        "outputId": "68c0e8a5-5b7d-4fde-b5c5-40cb4812a61f"
      },
      "execution_count": 6,
      "outputs": [
        {
          "output_type": "execute_result",
          "data": {
            "text/plain": [
              "[5, 2, 3, 1]"
            ]
          },
          "metadata": {},
          "execution_count": 6
        }
      ]
    },
    {
      "cell_type": "code",
      "source": [
        "stack[::-1]"
      ],
      "metadata": {
        "colab": {
          "base_uri": "https://localhost:8080/"
        },
        "id": "FhtJWGqWW-j5",
        "outputId": "0355990a-35f8-42cb-fe70-f08615a4e53b"
      },
      "execution_count": 7,
      "outputs": [
        {
          "output_type": "execute_result",
          "data": {
            "text/plain": [
              "[1, 3, 2, 5]"
            ]
          },
          "metadata": {},
          "execution_count": 7
        }
      ]
    },
    {
      "cell_type": "markdown",
      "source": [
        "큐"
      ],
      "metadata": {
        "id": "Kdu7Cm0JXriv"
      }
    },
    {
      "cell_type": "markdown",
      "source": [
        "deque는 스택과 큐의 장점을 모두 채택한 것 데이터를 넣고 빼는 속도가 리스트 자료형에 비해 효율적이며 queue 라이브러리를 이용하는 것보다 더 간단"
      ],
      "metadata": {
        "id": "DpqhuJLIY_VB"
      }
    },
    {
      "cell_type": "code",
      "source": [
        "from collections import deque"
      ],
      "metadata": {
        "id": "GYor-alVXs1D"
      },
      "execution_count": 14,
      "outputs": []
    },
    {
      "cell_type": "code",
      "source": [
        "queue=deque()"
      ],
      "metadata": {
        "id": "oNp_26vdXwsV"
      },
      "execution_count": 15,
      "outputs": []
    },
    {
      "cell_type": "code",
      "source": [
        "queue.append(5)\n",
        "queue.append(2)\n",
        "queue.append(3)\n",
        "queue.append(7)\n"
      ],
      "metadata": {
        "id": "XhaQJb_DX3JK"
      },
      "execution_count": 16,
      "outputs": []
    },
    {
      "cell_type": "code",
      "source": [
        "queue"
      ],
      "metadata": {
        "colab": {
          "base_uri": "https://localhost:8080/"
        },
        "id": "67LFApzlYMnh",
        "outputId": "8ba5f9c5-7a58-45d9-caca-3526f50bd133"
      },
      "execution_count": 17,
      "outputs": [
        {
          "output_type": "execute_result",
          "data": {
            "text/plain": [
              "deque([5, 2, 3, 7])"
            ]
          },
          "metadata": {},
          "execution_count": 17
        }
      ]
    },
    {
      "cell_type": "code",
      "source": [
        "queue.popleft()"
      ],
      "metadata": {
        "colab": {
          "base_uri": "https://localhost:8080/"
        },
        "id": "yZe-XVBmYNyn",
        "outputId": "700bae5a-c9eb-43f2-c2cf-85f5db125ec5"
      },
      "execution_count": 18,
      "outputs": [
        {
          "output_type": "execute_result",
          "data": {
            "text/plain": [
              "5"
            ]
          },
          "metadata": {},
          "execution_count": 18
        }
      ]
    },
    {
      "cell_type": "code",
      "source": [
        "queue"
      ],
      "metadata": {
        "colab": {
          "base_uri": "https://localhost:8080/"
        },
        "id": "8CfGJwmZYUG3",
        "outputId": "ed1e1453-378c-41ef-9a68-db888d68f0e5"
      },
      "execution_count": 19,
      "outputs": [
        {
          "output_type": "execute_result",
          "data": {
            "text/plain": [
              "deque([2, 3, 7])"
            ]
          },
          "metadata": {},
          "execution_count": 19
        }
      ]
    },
    {
      "cell_type": "code",
      "source": [
        "queue.append(1)\n",
        "queue.append(4)\n",
        "queue.popleft()"
      ],
      "metadata": {
        "colab": {
          "base_uri": "https://localhost:8080/"
        },
        "id": "UA6vuGy5YWXy",
        "outputId": "63d48f6b-bd65-4207-8429-58064dab67c4"
      },
      "execution_count": 20,
      "outputs": [
        {
          "output_type": "execute_result",
          "data": {
            "text/plain": [
              "2"
            ]
          },
          "metadata": {},
          "execution_count": 20
        }
      ]
    },
    {
      "cell_type": "code",
      "source": [
        "queue"
      ],
      "metadata": {
        "colab": {
          "base_uri": "https://localhost:8080/"
        },
        "id": "jAlLPssCYiSM",
        "outputId": "75ddd8bb-c9ac-4b72-ded2-255a1232387f"
      },
      "execution_count": 21,
      "outputs": [
        {
          "output_type": "execute_result",
          "data": {
            "text/plain": [
              "deque([3, 7, 1, 4])"
            ]
          },
          "metadata": {},
          "execution_count": 21
        }
      ]
    },
    {
      "cell_type": "code",
      "source": [
        "queue.reverse()"
      ],
      "metadata": {
        "id": "YWpJ-HDaYlr_"
      },
      "execution_count": 22,
      "outputs": []
    },
    {
      "cell_type": "code",
      "source": [
        "queue"
      ],
      "metadata": {
        "colab": {
          "base_uri": "https://localhost:8080/"
        },
        "id": "94V1YumkYpRD",
        "outputId": "a71462b0-c094-4e46-ad77-b8e9570011ef"
      },
      "execution_count": 23,
      "outputs": [
        {
          "output_type": "execute_result",
          "data": {
            "text/plain": [
              "deque([4, 1, 7, 3])"
            ]
          },
          "metadata": {},
          "execution_count": 23
        }
      ]
    },
    {
      "cell_type": "markdown",
      "source": [
        "재귀함수"
      ],
      "metadata": {
        "id": "eX74OOo7ZUEo"
      }
    },
    {
      "cell_type": "code",
      "source": [
        "def recursive_function():\n",
        "  print(\"hi\")\n",
        "  recursive_function()"
      ],
      "metadata": {
        "id": "wi9SRuAQYsB8"
      },
      "execution_count": 25,
      "outputs": []
    },
    {
      "cell_type": "code",
      "source": [
        "#recursive_function()"
      ],
      "metadata": {
        "id": "x9oivgGtZfZn"
      },
      "execution_count": 26,
      "outputs": []
    },
    {
      "cell_type": "code",
      "source": [
        "# 종료조건이 있어야 함, 예로 팩토리얼이 있음"
      ],
      "metadata": {
        "id": "GUl3RVQmZkmT"
      },
      "execution_count": 27,
      "outputs": []
    },
    {
      "cell_type": "code",
      "source": [
        "#반복적으로 구현한 n!\n",
        "def factorial_iterative(n):\n",
        "  result=1\n",
        "  for i in range(1, n+1):\n",
        "    result *= i\n",
        "  return result"
      ],
      "metadata": {
        "id": "vtHPN0R_aur3"
      },
      "execution_count": 33,
      "outputs": []
    },
    {
      "cell_type": "code",
      "source": [
        "factorial_iterative(4)"
      ],
      "metadata": {
        "colab": {
          "base_uri": "https://localhost:8080/"
        },
        "id": "zGMpKb98a8Go",
        "outputId": "d2e263cd-4227-4f14-e3cb-d717134462b7"
      },
      "execution_count": 34,
      "outputs": [
        {
          "output_type": "execute_result",
          "data": {
            "text/plain": [
              "24"
            ]
          },
          "metadata": {},
          "execution_count": 34
        }
      ]
    },
    {
      "cell_type": "code",
      "source": [
        "#재귀적으로 구현한 n!\n",
        "def factorial_recursive(n):\n",
        "  if n <= 1:\n",
        "    return 1\n",
        "  return n* factorial_recursive(n-1)"
      ],
      "metadata": {
        "id": "oW4xptt7bW9R"
      },
      "execution_count": 35,
      "outputs": []
    },
    {
      "cell_type": "code",
      "source": [
        "factorial_recursive(4)"
      ],
      "metadata": {
        "colab": {
          "base_uri": "https://localhost:8080/"
        },
        "id": "g9OQu8bJb3YV",
        "outputId": "4bca0d35-7d3c-405e-c7fd-116f3870ace8"
      },
      "execution_count": 36,
      "outputs": [
        {
          "output_type": "execute_result",
          "data": {
            "text/plain": [
              "24"
            ]
          },
          "metadata": {},
          "execution_count": 36
        }
      ]
    },
    {
      "cell_type": "code",
      "source": [
        "# 이것이코딩테스트 p134 참조"
      ],
      "metadata": {
        "id": "1xDQhLAhb6Em"
      },
      "execution_count": 37,
      "outputs": []
    },
    {
      "cell_type": "code",
      "source": [],
      "metadata": {
        "id": "W9btdc91dUmp"
      },
      "execution_count": null,
      "outputs": []
    }
  ]
}