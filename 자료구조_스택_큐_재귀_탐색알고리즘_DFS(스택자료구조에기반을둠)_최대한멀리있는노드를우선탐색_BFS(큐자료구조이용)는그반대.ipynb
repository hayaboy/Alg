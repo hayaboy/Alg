{
  "nbformat": 4,
  "nbformat_minor": 0,
  "metadata": {
    "colab": {
      "provenance": [],
      "authorship_tag": "ABX9TyNWmNv5Fve9vP7vpi3aFFoZ",
      "include_colab_link": true
    },
    "kernelspec": {
      "name": "python3",
      "display_name": "Python 3"
    },
    "language_info": {
      "name": "python"
    }
  },
  "cells": [
    {
      "cell_type": "markdown",
      "metadata": {
        "id": "view-in-github",
        "colab_type": "text"
      },
      "source": [
        "<a href=\"https://colab.research.google.com/github/hayaboy/Alg/blob/master/%EC%9E%90%EB%A3%8C%EA%B5%AC%EC%A1%B0_%EC%8A%A4%ED%83%9D_%ED%81%90_%EC%9E%AC%EA%B7%80_%ED%83%90%EC%83%89%EC%95%8C%EA%B3%A0%EB%A6%AC%EC%A6%98_DFS(%EC%8A%A4%ED%83%9D%EC%9E%90%EB%A3%8C%EA%B5%AC%EC%A1%B0%EC%97%90%EA%B8%B0%EB%B0%98%EC%9D%84%EB%91%A0)_%EC%B5%9C%EB%8C%80%ED%95%9C%EB%A9%80%EB%A6%AC%EC%9E%88%EB%8A%94%EB%85%B8%EB%93%9C%EB%A5%BC%EC%9A%B0%EC%84%A0%ED%83%90%EC%83%89_BFS(%ED%81%90%EC%9E%90%EB%A3%8C%EA%B5%AC%EC%A1%B0%EC%9D%B4%EC%9A%A9)%EB%8A%94%EA%B7%B8%EB%B0%98%EB%8C%80.ipynb\" target=\"_parent\"><img src=\"https://colab.research.google.com/assets/colab-badge.svg\" alt=\"Open In Colab\"/></a>"
      ]
    },
    {
      "cell_type": "markdown",
      "source": [
        "스택"
      ],
      "metadata": {
        "id": "eH6sifPuXhDX"
      }
    },
    {
      "cell_type": "code",
      "execution_count": 1,
      "metadata": {
        "id": "LVjP4Vp2WKZt"
      },
      "outputs": [],
      "source": [
        "stack=[]"
      ]
    },
    {
      "cell_type": "code",
      "source": [
        "stack.append(5)\n",
        "stack.append(2)\n",
        "stack.append(3)\n",
        "stack.append(7)"
      ],
      "metadata": {
        "id": "dsvIfL_oWkmO"
      },
      "execution_count": 2,
      "outputs": []
    },
    {
      "cell_type": "code",
      "source": [
        "stack.pop()"
      ],
      "metadata": {
        "colab": {
          "base_uri": "https://localhost:8080/"
        },
        "id": "RpOThFKkWrb6",
        "outputId": "a8400e76-fcb1-4b6b-e55a-25b1fd5fc1e0"
      },
      "execution_count": 3,
      "outputs": [
        {
          "output_type": "execute_result",
          "data": {
            "text/plain": [
              "7"
            ]
          },
          "metadata": {},
          "execution_count": 3
        }
      ]
    },
    {
      "cell_type": "code",
      "source": [
        "stack"
      ],
      "metadata": {
        "colab": {
          "base_uri": "https://localhost:8080/"
        },
        "id": "1xjTtF7TWte0",
        "outputId": "3338abe0-1cc2-48a6-fc8e-58d4eb6063d2"
      },
      "execution_count": 4,
      "outputs": [
        {
          "output_type": "execute_result",
          "data": {
            "text/plain": [
              "[5, 2, 3]"
            ]
          },
          "metadata": {},
          "execution_count": 4
        }
      ]
    },
    {
      "cell_type": "code",
      "source": [
        "stack.append(1)\n",
        "stack.append(4)\n",
        "stack.pop()"
      ],
      "metadata": {
        "colab": {
          "base_uri": "https://localhost:8080/"
        },
        "id": "OxfazweoWv0h",
        "outputId": "7266df51-3cc2-49fa-c60a-607b96b8f362"
      },
      "execution_count": 5,
      "outputs": [
        {
          "output_type": "execute_result",
          "data": {
            "text/plain": [
              "4"
            ]
          },
          "metadata": {},
          "execution_count": 5
        }
      ]
    },
    {
      "cell_type": "code",
      "source": [
        "stack"
      ],
      "metadata": {
        "colab": {
          "base_uri": "https://localhost:8080/"
        },
        "id": "zUCnq99LW5xs",
        "outputId": "68c0e8a5-5b7d-4fde-b5c5-40cb4812a61f"
      },
      "execution_count": 6,
      "outputs": [
        {
          "output_type": "execute_result",
          "data": {
            "text/plain": [
              "[5, 2, 3, 1]"
            ]
          },
          "metadata": {},
          "execution_count": 6
        }
      ]
    },
    {
      "cell_type": "code",
      "source": [
        "stack[::-1]"
      ],
      "metadata": {
        "colab": {
          "base_uri": "https://localhost:8080/"
        },
        "id": "FhtJWGqWW-j5",
        "outputId": "0355990a-35f8-42cb-fe70-f08615a4e53b"
      },
      "execution_count": 7,
      "outputs": [
        {
          "output_type": "execute_result",
          "data": {
            "text/plain": [
              "[1, 3, 2, 5]"
            ]
          },
          "metadata": {},
          "execution_count": 7
        }
      ]
    },
    {
      "cell_type": "markdown",
      "source": [
        "큐"
      ],
      "metadata": {
        "id": "Kdu7Cm0JXriv"
      }
    },
    {
      "cell_type": "markdown",
      "source": [
        "deque는 스택과 큐의 장점을 모두 채택한 것 데이터를 넣고 빼는 속도가 리스트 자료형에 비해 효율적이며 queue 라이브러리를 이용하는 것보다 더 간단"
      ],
      "metadata": {
        "id": "DpqhuJLIY_VB"
      }
    },
    {
      "cell_type": "code",
      "source": [
        "from collections import deque"
      ],
      "metadata": {
        "id": "GYor-alVXs1D"
      },
      "execution_count": 14,
      "outputs": []
    },
    {
      "cell_type": "code",
      "source": [
        "queue=deque()"
      ],
      "metadata": {
        "id": "oNp_26vdXwsV"
      },
      "execution_count": 15,
      "outputs": []
    },
    {
      "cell_type": "code",
      "source": [
        "queue.append(5)\n",
        "queue.append(2)\n",
        "queue.append(3)\n",
        "queue.append(7)\n"
      ],
      "metadata": {
        "id": "XhaQJb_DX3JK"
      },
      "execution_count": 16,
      "outputs": []
    },
    {
      "cell_type": "code",
      "source": [
        "queue"
      ],
      "metadata": {
        "colab": {
          "base_uri": "https://localhost:8080/"
        },
        "id": "67LFApzlYMnh",
        "outputId": "8ba5f9c5-7a58-45d9-caca-3526f50bd133"
      },
      "execution_count": 17,
      "outputs": [
        {
          "output_type": "execute_result",
          "data": {
            "text/plain": [
              "deque([5, 2, 3, 7])"
            ]
          },
          "metadata": {},
          "execution_count": 17
        }
      ]
    },
    {
      "cell_type": "code",
      "source": [
        "queue.popleft()"
      ],
      "metadata": {
        "colab": {
          "base_uri": "https://localhost:8080/"
        },
        "id": "yZe-XVBmYNyn",
        "outputId": "700bae5a-c9eb-43f2-c2cf-85f5db125ec5"
      },
      "execution_count": 18,
      "outputs": [
        {
          "output_type": "execute_result",
          "data": {
            "text/plain": [
              "5"
            ]
          },
          "metadata": {},
          "execution_count": 18
        }
      ]
    },
    {
      "cell_type": "code",
      "source": [
        "queue"
      ],
      "metadata": {
        "colab": {
          "base_uri": "https://localhost:8080/"
        },
        "id": "8CfGJwmZYUG3",
        "outputId": "ed1e1453-378c-41ef-9a68-db888d68f0e5"
      },
      "execution_count": 19,
      "outputs": [
        {
          "output_type": "execute_result",
          "data": {
            "text/plain": [
              "deque([2, 3, 7])"
            ]
          },
          "metadata": {},
          "execution_count": 19
        }
      ]
    },
    {
      "cell_type": "code",
      "source": [
        "queue.append(1)\n",
        "queue.append(4)\n",
        "queue.popleft()"
      ],
      "metadata": {
        "colab": {
          "base_uri": "https://localhost:8080/"
        },
        "id": "UA6vuGy5YWXy",
        "outputId": "63d48f6b-bd65-4207-8429-58064dab67c4"
      },
      "execution_count": 20,
      "outputs": [
        {
          "output_type": "execute_result",
          "data": {
            "text/plain": [
              "2"
            ]
          },
          "metadata": {},
          "execution_count": 20
        }
      ]
    },
    {
      "cell_type": "code",
      "source": [
        "queue"
      ],
      "metadata": {
        "colab": {
          "base_uri": "https://localhost:8080/"
        },
        "id": "jAlLPssCYiSM",
        "outputId": "75ddd8bb-c9ac-4b72-ded2-255a1232387f"
      },
      "execution_count": 21,
      "outputs": [
        {
          "output_type": "execute_result",
          "data": {
            "text/plain": [
              "deque([3, 7, 1, 4])"
            ]
          },
          "metadata": {},
          "execution_count": 21
        }
      ]
    },
    {
      "cell_type": "code",
      "source": [
        "queue.reverse()"
      ],
      "metadata": {
        "id": "YWpJ-HDaYlr_"
      },
      "execution_count": 22,
      "outputs": []
    },
    {
      "cell_type": "code",
      "source": [
        "queue"
      ],
      "metadata": {
        "colab": {
          "base_uri": "https://localhost:8080/"
        },
        "id": "94V1YumkYpRD",
        "outputId": "a71462b0-c094-4e46-ad77-b8e9570011ef"
      },
      "execution_count": 23,
      "outputs": [
        {
          "output_type": "execute_result",
          "data": {
            "text/plain": [
              "deque([4, 1, 7, 3])"
            ]
          },
          "metadata": {},
          "execution_count": 23
        }
      ]
    },
    {
      "cell_type": "markdown",
      "source": [
        "재귀함수"
      ],
      "metadata": {
        "id": "eX74OOo7ZUEo"
      }
    },
    {
      "cell_type": "code",
      "source": [
        "def recursive_function():\n",
        "  print(\"hi\")\n",
        "  recursive_function()"
      ],
      "metadata": {
        "id": "wi9SRuAQYsB8"
      },
      "execution_count": 25,
      "outputs": []
    },
    {
      "cell_type": "code",
      "source": [
        "#recursive_function()"
      ],
      "metadata": {
        "id": "x9oivgGtZfZn"
      },
      "execution_count": 26,
      "outputs": []
    },
    {
      "cell_type": "code",
      "source": [
        "# 종료조건이 있어야 함, 예로 팩토리얼이 있음"
      ],
      "metadata": {
        "id": "GUl3RVQmZkmT"
      },
      "execution_count": 27,
      "outputs": []
    },
    {
      "cell_type": "code",
      "source": [
        "#반복적으로 구현한 n!\n",
        "def factorial_iterative(n):\n",
        "  result=1\n",
        "  for i in range(1, n+1):\n",
        "    result *= i\n",
        "  return result"
      ],
      "metadata": {
        "id": "vtHPN0R_aur3"
      },
      "execution_count": 33,
      "outputs": []
    },
    {
      "cell_type": "code",
      "source": [
        "factorial_iterative(4)"
      ],
      "metadata": {
        "colab": {
          "base_uri": "https://localhost:8080/"
        },
        "id": "zGMpKb98a8Go",
        "outputId": "d2e263cd-4227-4f14-e3cb-d717134462b7"
      },
      "execution_count": 34,
      "outputs": [
        {
          "output_type": "execute_result",
          "data": {
            "text/plain": [
              "24"
            ]
          },
          "metadata": {},
          "execution_count": 34
        }
      ]
    },
    {
      "cell_type": "code",
      "source": [
        "#재귀적으로 구현한 n!\n",
        "def factorial_recursive(n):\n",
        "  if n <= 1:\n",
        "    return 1\n",
        "  return n* factorial_recursive(n-1)"
      ],
      "metadata": {
        "id": "oW4xptt7bW9R"
      },
      "execution_count": 35,
      "outputs": []
    },
    {
      "cell_type": "code",
      "source": [
        "factorial_recursive(4)"
      ],
      "metadata": {
        "colab": {
          "base_uri": "https://localhost:8080/"
        },
        "id": "g9OQu8bJb3YV",
        "outputId": "4bca0d35-7d3c-405e-c7fd-116f3870ace8"
      },
      "execution_count": 36,
      "outputs": [
        {
          "output_type": "execute_result",
          "data": {
            "text/plain": [
              "24"
            ]
          },
          "metadata": {},
          "execution_count": 36
        }
      ]
    },
    {
      "cell_type": "code",
      "source": [
        "# 이것이코딩테스트 p134 참조"
      ],
      "metadata": {
        "id": "1xDQhLAhb6Em"
      },
      "execution_count": 37,
      "outputs": []
    },
    {
      "cell_type": "code",
      "source": [
        "#우선 그래프의 기본 구조를 알아야 함\n",
        "\n",
        "\n",
        "#그래프는 크게 2가지 방식으로 표현\n",
        "\n",
        "# 인접 행렬 : 2차원 배열로 그래프의 연결 관계를 표현하는 방식\n",
        "# 인접 리스트 : 리스트로 그래프의 연결 관계를 표현하는 방식\n",
        "\n",
        "\n"
      ],
      "metadata": {
        "id": "Dx6XGRVAhPK6"
      },
      "execution_count": null,
      "outputs": []
    },
    {
      "cell_type": "code",
      "source": [
        "# 인접 행렬, 연결되어 있지 않은 노드끼리는 무한의 비용이라고 작성 실제 코드에서는 논리적으로 정답이 될 수 없는 큰 값 중 987654321 등의 값으로 초기화하는 경우가 많다."
      ],
      "metadata": {
        "id": "V0PVM15ThlN8"
      },
      "execution_count": 42,
      "outputs": []
    },
    {
      "cell_type": "code",
      "source": [
        "INF=987654321\n",
        "graph=[\n",
        "       [0,7,5],\n",
        "       [7,0,INF],\n",
        "       [5,INF,0]\n",
        "]\n",
        "print(graph)"
      ],
      "metadata": {
        "colab": {
          "base_uri": "https://localhost:8080/"
        },
        "id": "A9wNG4hdh46Q",
        "outputId": "e8ffcc78-9836-4717-9593-2dc0dccfc8c4"
      },
      "execution_count": 44,
      "outputs": [
        {
          "output_type": "stream",
          "name": "stdout",
          "text": [
            "[[0, 7, 5], [7, 0, 987654321], [5, 987654321, 0]]\n"
          ]
        }
      ]
    },
    {
      "cell_type": "code",
      "source": [
        "# 인접 리스트 방식\n",
        "# 행이 3개인 2차원 리스트로 인접 리스트 표현\n",
        "graph=[[] for _ in range(3)]\n",
        "\n",
        "#노드 0에 연결된 노드 정보 저장(노드, 거리)\n",
        "graph[0].append((1,7))\n",
        "graph[0].append((2,5))\n",
        "\n",
        "#노드 1에 연결된 노드 정보 저장(노드, 거리)\n",
        "graph[1].append((0,7))\n",
        "\n",
        "#노드 2에 연결된 노드 정보 저장(노드, 거리)\n",
        "graph[2].append((0,5))\n",
        "\n",
        "print(graph)"
      ],
      "metadata": {
        "colab": {
          "base_uri": "https://localhost:8080/"
        },
        "id": "Z4s0MceNiYQg",
        "outputId": "df5fe5d7-9757-474b-cedb-5deadb5642f1"
      },
      "execution_count": 45,
      "outputs": [
        {
          "output_type": "stream",
          "name": "stdout",
          "text": [
            "[[(1, 7), (2, 5)], [(0, 7)], [(0, 5)]]\n"
          ]
        }
      ]
    },
    {
      "cell_type": "code",
      "source": [
        "# DFS(depth first search)는 스택 자료 구조를 이용하여 아래와 같이 동작한다."
      ],
      "metadata": {
        "id": "W9btdc91dUmp"
      },
      "execution_count": 38,
      "outputs": []
    },
    {
      "cell_type": "code",
      "source": [
        "# 1. 탐색 시작 노드를 스택에 삽입하고 방문 처리\n",
        "# 2. 스택의 최상단 노드에 방문하지 않은 인접 노드가 있으면 그 인접 노드를 스택에 넣고 방문 처리, 방문하지 않은 인접 노드가 없으면 스택에서 최상단 노드를 꺼낸다.\n",
        "\n",
        "\n",
        "# 1과2번의 과정을 더 이상 수행할 수 없을 때까지 반복\n",
        "\n",
        "\n",
        "# 방문처리라는 것은 스택에 한 번 삽입되어 처리된 노드가 다시 삽입되지 않게 체크하는 것을 의미, 방문 처리를 함으로써 각 노드를 한 번씩만 처리할 수 있다."
      ],
      "metadata": {
        "id": "Pa_v4R9SgASz"
      },
      "execution_count": 41,
      "outputs": []
    },
    {
      "cell_type": "code",
      "source": [
        "#DFS"
      ],
      "metadata": {
        "id": "mXuBii46gEbG"
      },
      "execution_count": 46,
      "outputs": []
    },
    {
      "cell_type": "code",
      "source": [
        "def dfs(graph, v, visited):\n",
        "  # 현재 노드를 방문 처리\n",
        "  visited[v]= True\n",
        "  print(v, end=' ')\n",
        "  # 현재 노드와 연결된 다른 노드를 재귀적으로 방문\n",
        "  for i in graph[v]:\n",
        "    if not visited[i]:\n",
        "      dfs(graph, i, visited)"
      ],
      "metadata": {
        "id": "wzhbGS2Njbix"
      },
      "execution_count": 47,
      "outputs": []
    },
    {
      "cell_type": "code",
      "source": [
        "# 각 노드가 연결된 정보를 리스트 자료형으로 표현(2차원 리스트)\n",
        "graph=[\n",
        "    [],\n",
        "    [2,3,8],\n",
        "    [1,7],\n",
        "    [1,4,5],\n",
        "    [3,5],\n",
        "    [3,4],\n",
        "    [7],\n",
        "    [2,6,8],\n",
        "    [1,7]\n",
        "]"
      ],
      "metadata": {
        "id": "t0k_ZirGkHfY"
      },
      "execution_count": 48,
      "outputs": []
    },
    {
      "cell_type": "code",
      "source": [
        "# 각 노드가 방문되 정보를 리스트 자료형으로 표현\n",
        "visited=[False]*9"
      ],
      "metadata": {
        "id": "q5A8ZBB5lCyG"
      },
      "execution_count": 49,
      "outputs": []
    },
    {
      "cell_type": "code",
      "source": [
        "#정의된 DFS 함수 호출\n",
        "dfs(graph, 1, visited)"
      ],
      "metadata": {
        "colab": {
          "base_uri": "https://localhost:8080/"
        },
        "id": "J81_5kUflJsq",
        "outputId": "2e511271-427d-42aa-d04a-f1d1eaca4d9b"
      },
      "execution_count": 50,
      "outputs": [
        {
          "output_type": "stream",
          "name": "stdout",
          "text": [
            "1 2 7 6 8 3 4 5 "
          ]
        }
      ]
    },
    {
      "cell_type": "code",
      "source": [
        "# B(breadth) FS ( 큐 자료 구조 이용)  선입선출인 큐를 이용여 인접한 노드를 반복적으로 큐에 넣도록 하면 자연스럽게 먼저 들어온 것이 먼저 나가게 되어, 가까운 노드부터 탐색을 진행함"
      ],
      "metadata": {
        "id": "P8uwWD6VlRcv"
      },
      "execution_count": 52,
      "outputs": []
    },
    {
      "cell_type": "code",
      "source": [
        "# 1. 탐색 시작 노드를 큐에 삽입하고 방문 처리\n",
        "# 2. 큐에서 노드를 꺼내 해당 노드의 인접 노드 중에서 방문하지 않는 노드를 모두 큐에 삽입하고 방문 처리\n",
        "\n",
        "# 1,2 번 과정을 더 이상 수행할 수 없을 때까지 반복"
      ],
      "metadata": {
        "id": "GP4-7Mq_la8V"
      },
      "execution_count": 53,
      "outputs": []
    },
    {
      "cell_type": "code",
      "source": [
        "# 실제 구현시 deque 라이브러리를 사용 시간은 O(N) 시간 소요, 일반적인 경우 실제 수행 시간은 DFS보다 좋은편"
      ],
      "metadata": {
        "id": "l1ezEAF0mE25"
      },
      "execution_count": 54,
      "outputs": []
    },
    {
      "cell_type": "code",
      "source": [
        "from collections import deque"
      ],
      "metadata": {
        "id": "1-EOArMqnBiW"
      },
      "execution_count": 56,
      "outputs": []
    },
    {
      "cell_type": "code",
      "source": [
        "#BFS 정의\n",
        "def bfs(graph, start, visited):\n",
        "  #큐 구현을 위해 deque라이브러리 사용\n",
        "  queue = deque([start])\n",
        "  #현재 노드를 방문 처리\n",
        "  visited[start]=True\n",
        "  #큐가 빌 때까지 반복\n",
        "  while queue:\n",
        "    #큐에서 하나의 원소를 뽑아 출력\n",
        "    v=queue.popleft()\n",
        "    print(v, end=' ')\n",
        "    #해당 원소와 연결된, 아직 방문하지 않은 원소들을 큐에 삽입\n",
        "    for i in graph[v]:\n",
        "      if not visited[i]:\n",
        "        queue.append(i)\n",
        "        visited[i]=True"
      ],
      "metadata": {
        "id": "1EMUjg90nELN"
      },
      "execution_count": 57,
      "outputs": []
    },
    {
      "cell_type": "code",
      "source": [
        "#각 노드가 연결된 정보를 리스트 자료형으로 표현"
      ],
      "metadata": {
        "id": "N4R6SBsAoDrj"
      },
      "execution_count": 58,
      "outputs": []
    },
    {
      "cell_type": "code",
      "source": [
        "graph=[\n",
        "    [],\n",
        "    [2,3,8],\n",
        "    [1,7],\n",
        "    [1,4,5],\n",
        "    [3,5],\n",
        "    [3,4],\n",
        "    [7],\n",
        "    [2,6,8],\n",
        "    [1,7]\n",
        "]"
      ],
      "metadata": {
        "id": "NeQDq7fRoHwc"
      },
      "execution_count": 59,
      "outputs": []
    },
    {
      "cell_type": "code",
      "source": [
        "#각 노드가 방문된 정보를 리스트 자료형으로 표현\n",
        "visited=[False]*9"
      ],
      "metadata": {
        "id": "lt7bnMXToYMd"
      },
      "execution_count": 60,
      "outputs": []
    },
    {
      "cell_type": "code",
      "source": [
        "bfs(graph, 1, visited)"
      ],
      "metadata": {
        "colab": {
          "base_uri": "https://localhost:8080/"
        },
        "id": "VVeSJuiWohWV",
        "outputId": "9a27286b-eb46-497f-f074-7fdacf481439"
      },
      "execution_count": 61,
      "outputs": [
        {
          "output_type": "stream",
          "name": "stdout",
          "text": [
            "1 2 3 8 7 4 5 6 "
          ]
        }
      ]
    },
    {
      "cell_type": "code",
      "source": [
        "# 2차원 배열 문제 만나면 그래프 형태로 표현 후 풀이법을 고민하는 것이 좋다."
      ],
      "metadata": {
        "id": "4s_dovD2olS8"
      },
      "execution_count": 62,
      "outputs": []
    },
    {
      "cell_type": "code",
      "source": [],
      "metadata": {
        "id": "hrzt9Nn0o7xT"
      },
      "execution_count": null,
      "outputs": []
    }
  ]
}